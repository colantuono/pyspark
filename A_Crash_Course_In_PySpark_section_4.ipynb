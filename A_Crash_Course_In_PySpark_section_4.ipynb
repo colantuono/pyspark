{
  "nbformat": 4,
  "nbformat_minor": 0,
  "metadata": {
    "colab": {
      "name": "A Crash Course In PySpark - section 4.ipynb",
      "provenance": [],
      "collapsed_sections": [
        "xRmwfWC-d5OB"
      ]
    },
    "kernelspec": {
      "name": "python3",
      "display_name": "Python 3"
    },
    "language_info": {
      "name": "python"
    }
  },
  "cells": [
    {
      "cell_type": "markdown",
      "source": [
        "### Setup"
      ],
      "metadata": {
        "id": "xRmwfWC-d5OB"
      }
    },
    {
      "cell_type": "code",
      "execution_count": 3,
      "metadata": {
        "colab": {
          "base_uri": "https://localhost:8080/"
        },
        "id": "udX1_iSfdRws",
        "outputId": "c5a57236-f6db-427e-ed99-13e45d453500"
      },
      "outputs": [
        {
          "output_type": "stream",
          "name": "stdout",
          "text": [
            "\r0% [Working]\r            \rHit:1 http://security.ubuntu.com/ubuntu bionic-security InRelease\n",
            "\r0% [Connecting to archive.ubuntu.com (185.125.190.39)] [Waiting for headers] [C\r                                                                               \rHit:2 https://cloud.r-project.org/bin/linux/ubuntu bionic-cran40/ InRelease\n",
            "\r0% [Connecting to archive.ubuntu.com (185.125.190.39)] [Connected to developer.\r0% [1 InRelease gpgv 88.7 kB] [Connecting to archive.ubuntu.com (185.125.190.39\r                                                                               \rHit:3 http://archive.ubuntu.com/ubuntu bionic InRelease\n",
            "\r0% [1 InRelease gpgv 88.7 kB] [Waiting for headers] [Waiting for headers] [Conn\r                                                                               \rIgn:4 https://developer.download.nvidia.com/compute/machine-learning/repos/ubuntu1804/x86_64  InRelease\n",
            "\r0% [1 InRelease gpgv 88.7 kB] [Waiting for headers] [Waiting for headers] [Wait\r                                                                               \rHit:5 https://developer.download.nvidia.com/compute/cuda/repos/ubuntu1804/x86_64  InRelease\n",
            "\r                                                                               \r0% [1 InRelease gpgv 88.7 kB] [Waiting for headers] [Waiting for headers]\r                                                                         \rHit:6 https://developer.download.nvidia.com/compute/machine-learning/repos/ubuntu1804/x86_64  Release\n",
            "\r0% [1 InRelease gpgv 88.7 kB] [Waiting for headers] [Waiting for headers]\r                                                                         \rHit:7 http://archive.ubuntu.com/ubuntu bionic-updates InRelease\n",
            "Hit:8 http://ppa.launchpad.net/c2d4u.team/c2d4u4.0+/ubuntu bionic InRelease\n",
            "Get:9 http://archive.ubuntu.com/ubuntu bionic-backports InRelease [74.6 kB]\n",
            "Hit:10 http://ppa.launchpad.net/cran/libgit2/ubuntu bionic InRelease\n",
            "Hit:11 http://ppa.launchpad.net/deadsnakes/ppa/ubuntu bionic InRelease\n",
            "Hit:12 http://ppa.launchpad.net/graphics-drivers/ppa/ubuntu bionic InRelease\n",
            "Fetched 74.6 kB in 2s (32.5 kB/s)\n",
            "Reading package lists... Done\n"
          ]
        }
      ],
      "source": [
        "!apt-get update\n",
        "!apt-get install openjdk-8-jdk-headless -qq > /dev/null\n",
        "!wget -q http://archive.apache.org/dist/spark/spark-2.3.1/spark-2.3.1-bin-hadoop2.7.tgz\n",
        "!tar xf spark-2.3.1-bin-hadoop2.7.tgz\n",
        "!pip install -q findspark\n",
        "\n",
        "import os\n",
        "os.environ[\"JAVA_HOME\"] = \"/usr/lib/jvm/java-8-openjdk-amd64\"\n",
        "os.environ[\"SPARK_HOME\"] = \"/content/spark-2.3.1-bin-hadoop2.7\"\n",
        "\n",
        "# !ls\n",
        "\n",
        "import findspark\n",
        "findspark.init()\n",
        "\n",
        "import pyspark\n",
        "from pyspark.sql import SparkSession\n",
        "spark = SparkSession.builder.getOrCreate() \n",
        "spark"
      ]
    },
    {
      "cell_type": "markdown",
      "source": [
        "### Challenge\n",
        "1. Add a column to say if country is Mexico\n",
        "2. Group by Country Column and sum bytes used\n",
        "3. Group by Country and count amout of IP adresses in each Country"
      ],
      "metadata": {
        "id": "7_0Yf6_ld8J6"
      }
    },
    {
      "cell_type": "code",
      "source": [
        "from pyspark.sql.types import *\n",
        "schema = StructType([\n",
        "  StructField('ip_address', StringType()),\n",
        "  StructField('country', StringType()),\n",
        "  StructField('domain_name', StringType()),\n",
        "  StructField('bytes_used', FloatType())\n",
        "])\n",
        "\n",
        "df = spark.read.csv('/content/drive/MyDrive/challenge.csv', header=True, schema = schema)\n",
        "df.show(3)"
      ],
      "metadata": {
        "colab": {
          "base_uri": "https://localhost:8080/"
        },
        "id": "9PG29dUUeCpJ",
        "outputId": "fa1423d4-3852-4ac0-d680-37603dffed2f"
      },
      "execution_count": 9,
      "outputs": [
        {
          "output_type": "stream",
          "name": "stdout",
          "text": [
            "+--------------+-------+----------------+----------+\n",
            "|    ip_address|country|     domain_name|bytes_used|\n",
            "+--------------+-------+----------------+----------+\n",
            "| 52.81.192.172|  China|odnoklassniki.ru|     463.0|\n",
            "|119.239.207.13|  China|        youtu.be|      51.0|\n",
            "| 68.69.217.210|  China|       adobe.com|      10.0|\n",
            "+--------------+-------+----------------+----------+\n",
            "only showing top 3 rows\n",
            "\n"
          ]
        }
      ]
    },
    {
      "cell_type": "code",
      "source": [
        "from pyspark.sql.functions import *\n",
        "df = df.withColumn('Mexico?', when(df.country == 'Mexico', 1).otherwise(0))\n",
        "df.show()"
      ],
      "metadata": {
        "colab": {
          "base_uri": "https://localhost:8080/"
        },
        "id": "G-mRTk12eCt3",
        "outputId": "2db08181-20ef-44d1-aa4d-c7167d626804"
      },
      "execution_count": 10,
      "outputs": [
        {
          "output_type": "stream",
          "name": "stdout",
          "text": [
            "+---------------+--------------+-----------------+----------+-------+\n",
            "|     ip_address|       country|      domain_name|bytes_used|Mexico?|\n",
            "+---------------+--------------+-----------------+----------+-------+\n",
            "|  52.81.192.172|         China| odnoklassniki.ru|     463.0|      0|\n",
            "| 119.239.207.13|         China|         youtu.be|      51.0|      0|\n",
            "|  68.69.217.210|         China|        adobe.com|      10.0|      0|\n",
            "|   7.191.21.223|      Bulgaria|     linkedin.com|     853.0|      0|\n",
            "|   211.13.10.68|     Indonesia|          hud.gov|      29.0|      0|\n",
            "|   239.80.21.97|      Suriname|       smh.com.au|     218.0|      0|\n",
            "|106.214.106.233|       Jamaica|    amazonaws.com|      95.0|      0|\n",
            "| 127.242.24.138|         China| surveymonkey.com|     123.0|      0|\n",
            "|     99.2.6.139|Czech Republic|     geocities.jp|     322.0|      0|\n",
            "|   237.54.11.63|         China|       amazon.com|      83.0|      0|\n",
            "| 252.141.157.25|         Japan|      cornell.edu|     374.0|      0|\n",
            "|185.220.128.248|       Belgium|       weebly.com|     389.0|      0|\n",
            "|   151.77.19.45|   Afghanistan|independent.co.uk|     282.0|      0|\n",
            "|  9.161.158.225|     Indonesia|    bloglines.com|     726.0|      0|\n",
            "| 156.144.61.155|Czech Republic|   slideshare.net|     657.0|      0|\n",
            "|   8.96.188.151|     Indonesia|          ibm.com|     517.0|      0|\n",
            "|      5.72.7.65|        Mexico|         youtu.be|     877.0|      1|\n",
            "|227.110.112.144|       Croatia|         ehow.com|     287.0|      0|\n",
            "|    81.71.28.97|      Thailand|          last.fm|     588.0|      0|\n",
            "|  9.255.129.184|      Thailand|          mtv.com|     114.0|      0|\n",
            "+---------------+--------------+-----------------+----------+-------+\n",
            "only showing top 20 rows\n",
            "\n"
          ]
        }
      ]
    },
    {
      "cell_type": "code",
      "source": [
        "import pyspark.sql.functions as sqlfunc\n",
        "df_bytes_per_country = df.groupBy('country').agg(sqlfunc.sum('bytes_used').alias('total_used'))\n",
        "df_bytes_per_country.show()"
      ],
      "metadata": {
        "colab": {
          "base_uri": "https://localhost:8080/"
        },
        "id": "xSh2-yEAeC7N",
        "outputId": "d11a09b1-5482-4130-bcf4-bb6269f618c5"
      },
      "execution_count": 13,
      "outputs": [
        {
          "output_type": "stream",
          "name": "stdout",
          "text": [
            "+-----------+----------+\n",
            "|    country|total_used|\n",
            "+-----------+----------+\n",
            "|       Chad|     220.0|\n",
            "|     Russia|   32193.0|\n",
            "|   Paraguay|     183.0|\n",
            "|      Yemen|     670.0|\n",
            "|     Sweden|   15422.0|\n",
            "|Philippines|   30338.0|\n",
            "|   Malaysia|    2550.0|\n",
            "|     Turkey|     880.0|\n",
            "|     Malawi|     927.0|\n",
            "|    Germany|    2575.0|\n",
            "|    Comoros|     742.0|\n",
            "|Afghanistan|    2538.0|\n",
            "|     Rwanda|     371.0|\n",
            "|      Sudan|     714.0|\n",
            "|     France|   10559.0|\n",
            "|     Greece|    3423.0|\n",
            "|  Sri Lanka|    1918.0|\n",
            "|   Dominica|     161.0|\n",
            "|  Argentina|    8574.0|\n",
            "|    Belgium|     389.0|\n",
            "+-----------+----------+\n",
            "only showing top 20 rows\n",
            "\n"
          ]
        }
      ]
    },
    {
      "cell_type": "code",
      "source": [
        "df_ip_per_country = df.groupBy('country').agg(sqlfunc.countDistinct('ip_address').alias('number_of_ips'))\n",
        "df_ip_per_country.sort(col('number_of_ips').desc()).show()"
      ],
      "metadata": {
        "colab": {
          "base_uri": "https://localhost:8080/"
        },
        "id": "WylASh8qiT-s",
        "outputId": "fb0ede25-4924-4d53-fcfb-5d30024ce89e"
      },
      "execution_count": 18,
      "outputs": [
        {
          "output_type": "stream",
          "name": "stdout",
          "text": [
            "+--------------+-------------+\n",
            "|       country|number_of_ips|\n",
            "+--------------+-------------+\n",
            "|         China|          172|\n",
            "|     Indonesia|          114|\n",
            "|   Philippines|           65|\n",
            "|        Russia|           56|\n",
            "|        Brazil|           35|\n",
            "|        Poland|           31|\n",
            "|        Sweden|           28|\n",
            "|         Japan|           25|\n",
            "|Czech Republic|           23|\n",
            "|      Portugal|           23|\n",
            "|        France|           21|\n",
            "|          Peru|           19|\n",
            "|      Colombia|           17|\n",
            "| United States|           15|\n",
            "|       Ukraine|           14|\n",
            "|     Argentina|           14|\n",
            "|        Mexico|           13|\n",
            "|      Thailand|           12|\n",
            "|       Nigeria|           11|\n",
            "|        Canada|           11|\n",
            "+--------------+-------------+\n",
            "only showing top 20 rows\n",
            "\n"
          ]
        }
      ]
    }
  ]
}