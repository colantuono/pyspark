{
  "nbformat": 4,
  "nbformat_minor": 0,
  "metadata": {
    "colab": {
      "name": "A Crash Course in Pyspark - section 3.ipynb",
      "provenance": [],
      "collapsed_sections": [
        "3VZV65aH3yxL",
        "sMLfETAY51hr",
        "ZcnpHvCjZkfz"
      ]
    },
    "kernelspec": {
      "name": "python3",
      "display_name": "Python 3"
    },
    "language_info": {
      "name": "python"
    }
  },
  "cells": [
    {
      "cell_type": "markdown",
      "source": [
        "### Setup"
      ],
      "metadata": {
        "id": "i_-j28IQ3lgT"
      }
    },
    {
      "cell_type": "code",
      "execution_count": null,
      "metadata": {
        "id": "KSowWonNVm9b",
        "colab": {
          "base_uri": "https://localhost:8080/"
        },
        "outputId": "d28c343a-d1f7-48ba-a61e-b3657705b69f"
      },
      "outputs": [
        {
          "output_type": "stream",
          "name": "stdout",
          "text": [
            "Hit:1 http://security.ubuntu.com/ubuntu bionic-security InRelease\n",
            "Ign:2 https://developer.download.nvidia.com/compute/machine-learning/repos/ubuntu1804/x86_64  InRelease\n",
            "Hit:3 https://developer.download.nvidia.com/compute/cuda/repos/ubuntu1804/x86_64  InRelease\n",
            "Hit:4 https://developer.download.nvidia.com/compute/machine-learning/repos/ubuntu1804/x86_64  Release\n",
            "Hit:5 http://archive.ubuntu.com/ubuntu bionic InRelease\n",
            "Hit:6 http://ppa.launchpad.net/c2d4u.team/c2d4u4.0+/ubuntu bionic InRelease\n",
            "Hit:7 https://cloud.r-project.org/bin/linux/ubuntu bionic-cran40/ InRelease\n",
            "Hit:8 http://archive.ubuntu.com/ubuntu bionic-updates InRelease\n",
            "Hit:10 http://archive.ubuntu.com/ubuntu bionic-backports InRelease\n",
            "Hit:11 http://ppa.launchpad.net/cran/libgit2/ubuntu bionic InRelease\n",
            "Hit:12 http://ppa.launchpad.net/deadsnakes/ppa/ubuntu bionic InRelease\n",
            "Hit:13 http://ppa.launchpad.net/graphics-drivers/ppa/ubuntu bionic InRelease\n",
            "Reading package lists... Done\n"
          ]
        }
      ],
      "source": [
        "!apt-get update\n",
        "!apt-get install openjdk-8-jdk-headless -qq > /dev/null\n",
        "!wget -q http://archive.apache.org/dist/spark/spark-2.3.1/spark-2.3.1-bin-hadoop2.7.tgz\n",
        "!tar xf spark-2.3.1-bin-hadoop2.7.tgz\n",
        "!pip install -q findspark\n",
        "\n",
        "import os\n",
        "os.environ[\"JAVA_HOME\"] = \"/usr/lib/jvm/java-8-openjdk-amd64\"\n",
        "os.environ[\"SPARK_HOME\"] = \"/content/spark-2.3.1-bin-hadoop2.7\"\n",
        "\n",
        "!ls\n",
        "\n",
        "import findspark\n",
        "findspark.init()\n",
        "\n",
        "import pyspark\n",
        "from pyspark.sql import SparkSession\n",
        "spark = SparkSession.builder.getOrCreate() \n",
        "spark"
      ]
    },
    {
      "cell_type": "markdown",
      "source": [
        "### Loading Data "
      ],
      "metadata": {
        "id": "EijyEcQG3qSz"
      }
    },
    {
      "cell_type": "code",
      "source": [
        "df = spark.read.format('csv').option('header', 'true').load('/content/drive/MyDrive/original.csv')\n",
        "df.show()"
      ],
      "metadata": {
        "id": "xE5fijWsyAhn"
      },
      "execution_count": null,
      "outputs": []
    },
    {
      "cell_type": "code",
      "source": [
        "df = spark.read.csv('/content/drive/MyDrive/original.csv', header=True)\n",
        "df.show()"
      ],
      "metadata": {
        "id": "Mm9v6c41yAj-"
      },
      "execution_count": null,
      "outputs": []
    },
    {
      "cell_type": "code",
      "source": [
        "df.dtypes"
      ],
      "metadata": {
        "id": "CkjvAWfoyAmf"
      },
      "execution_count": null,
      "outputs": []
    },
    {
      "cell_type": "code",
      "source": [
        "from pyspark.sql.types import *\n",
        "schema = StructType([\n",
        "  StructField('id', IntegerType()),\n",
        "  StructField('first_name', StringType()),\n",
        "  StructField('last_name', StringType()),\n",
        "  StructField('gender', StringType()),\n",
        "  StructField('city',  StringType()),\n",
        "  StructField('job_title', StringType()),\n",
        "  StructField('Salary', StringType()),\n",
        "  StructField('latitude', FloatType()),\n",
        "  StructField('longitude', FloatType())\n",
        "])\n",
        "\n",
        "df = spark.read.csv('/content/drive/MyDrive/original.csv', header=True,schema = schema)\n",
        "df.show()"
      ],
      "metadata": {
        "id": "vPlr5jaiyApE"
      },
      "execution_count": null,
      "outputs": []
    },
    {
      "cell_type": "markdown",
      "source": [
        "### Inspecting Data"
      ],
      "metadata": {
        "id": "3VZV65aH3yxL"
      }
    },
    {
      "cell_type": "code",
      "source": [
        "df.dtypes"
      ],
      "metadata": {
        "id": "xyNtx2wzyArs"
      },
      "execution_count": null,
      "outputs": []
    },
    {
      "cell_type": "code",
      "source": [
        "df.head(6)"
      ],
      "metadata": {
        "id": "1usCsuctyAuS"
      },
      "execution_count": null,
      "outputs": []
    },
    {
      "cell_type": "code",
      "source": [
        "df.first()"
      ],
      "metadata": {
        "id": "iLezsApqyAwp"
      },
      "execution_count": null,
      "outputs": []
    },
    {
      "cell_type": "code",
      "source": [
        "df.describe().show()"
      ],
      "metadata": {
        "id": "IZyzNfRNyAy-"
      },
      "execution_count": null,
      "outputs": []
    },
    {
      "cell_type": "code",
      "source": [
        "df.columns"
      ],
      "metadata": {
        "id": "eQsVfy6syA1g"
      },
      "execution_count": null,
      "outputs": []
    },
    {
      "cell_type": "code",
      "source": [
        "df.count()"
      ],
      "metadata": {
        "id": "CnPh6NJQyA32"
      },
      "execution_count": null,
      "outputs": []
    },
    {
      "cell_type": "code",
      "source": [
        "df.distinct().count()"
      ],
      "metadata": {
        "id": "UK6X1IjgyA6U"
      },
      "execution_count": null,
      "outputs": []
    },
    {
      "cell_type": "markdown",
      "source": [
        "###  Handling Null and Duplicate Values"
      ],
      "metadata": {
        "id": "0yid51kx3emU"
      }
    },
    {
      "cell_type": "code",
      "source": [
        "df_dropped = df.na.drop()\n",
        "df_dropped.show()"
      ],
      "metadata": {
        "id": "UszPYyi3yA83"
      },
      "execution_count": null,
      "outputs": []
    },
    {
      "cell_type": "code",
      "source": [
        "df_null_jobs = df.filter(df.job_title.isNotNull())\n",
        "df_null_jobs.show()"
      ],
      "metadata": {
        "id": "lcG6aYBAyA_P"
      },
      "execution_count": null,
      "outputs": []
    },
    {
      "cell_type": "code",
      "source": [
        "from pyspark.sql.functions import *\n",
        "df_handled = df.withColumn('clean_city', when(df.city.isNull(), 'Unknow').otherwise(df.city))\n",
        "df_handled.show()"
      ],
      "metadata": {
        "id": "F0BTctOPyBBt"
      },
      "execution_count": null,
      "outputs": []
    },
    {
      "cell_type": "code",
      "source": [
        "df_no_duplicates = df.dropDuplicates()\n",
        "df_no_duplicates.show()"
      ],
      "metadata": {
        "id": "ixgTkyOfyBEJ"
      },
      "execution_count": null,
      "outputs": []
    },
    {
      "cell_type": "markdown",
      "source": [
        "### Selecting & Filtering"
      ],
      "metadata": {
        "id": "sMLfETAY51hr"
      }
    },
    {
      "cell_type": "code",
      "source": [
        "df_select = df.select('first_name', 'last_name')\n",
        "df_select.show()"
      ],
      "metadata": {
        "id": "YZqtSxdW57eQ"
      },
      "execution_count": null,
      "outputs": []
    },
    {
      "cell_type": "code",
      "source": [
        "df_renamed = df.withColumnRenamed('first_name', 'fn')\n",
        "df_renamed.show()"
      ],
      "metadata": {
        "id": "pgPxPrPIXKCE"
      },
      "execution_count": null,
      "outputs": []
    },
    {
      "cell_type": "code",
      "source": [
        "df_filter = df.filter((df.first_name == 'Alvera'))\n",
        "df_filter.show()"
      ],
      "metadata": {
        "id": "i31JC0KUXK7z"
      },
      "execution_count": null,
      "outputs": []
    },
    {
      "cell_type": "code",
      "source": [
        "df_filter = df.filter((df.first_name.like('%ndr%')))\n",
        "df_filter.show()"
      ],
      "metadata": {
        "id": "rgOU8Q9-XKHA"
      },
      "execution_count": null,
      "outputs": []
    },
    {
      "cell_type": "code",
      "source": [
        "df_filter = df.filter((df.first_name.endswith('din')))\n",
        "df_filter.show()"
      ],
      "metadata": {
        "id": "gF3FQvziXKM4"
      },
      "execution_count": null,
      "outputs": []
    },
    {
      "cell_type": "code",
      "source": [
        "df_filter = df.filter((df.first_name.startswith('Alv')))\n",
        "df_filter.show()"
      ],
      "metadata": {
        "id": "BWuG1C02XKbV"
      },
      "execution_count": null,
      "outputs": []
    },
    {
      "cell_type": "code",
      "source": [
        "df_filter = df.filter(df.id.between(1,5))\n",
        "df_filter.show()"
      ],
      "metadata": {
        "id": "2GNZ0Xf2Yk-Z"
      },
      "execution_count": null,
      "outputs": []
    },
    {
      "cell_type": "code",
      "source": [
        "df_filter = df.filter(df.first_name.isin('Aldin', 'Valma'))\n",
        "df_filter.show()"
      ],
      "metadata": {
        "id": "dCeNJNwqYlBP"
      },
      "execution_count": null,
      "outputs": []
    },
    {
      "cell_type": "code",
      "source": [
        "df_substring = df.select(df.first_name, df.first_name.substr(1,5).alias('name'))\n",
        "df_substring.show()"
      ],
      "metadata": {
        "colab": {
          "base_uri": "https://localhost:8080/"
        },
        "id": "t0OhjtDcZB6Y",
        "outputId": "d2b6871b-f693-483f-a33b-b48ae23f75f8"
      },
      "execution_count": 67,
      "outputs": [
        {
          "metadata": {
            "tags": null
          },
          "name": "stdout",
          "output_type": "stream",
          "text": [
            "+----------+-----+\n",
            "|first_name| name|\n",
            "+----------+-----+\n",
            "|   Melinde|Melin|\n",
            "|  Kimberly|Kimbe|\n",
            "|    Alvera|Alver|\n",
            "|   Shannon|Shann|\n",
            "|  Sherwood|Sherw|\n",
            "|     Maris|Maris|\n",
            "|     Masha|Masha|\n",
            "|   Goddart|Godda|\n",
            "|      Roth| Roth|\n",
            "|      Bran| Bran|\n",
            "|    Kylynn|Kylyn|\n",
            "|       Rey|  Rey|\n",
            "|      Kerr| Kerr|\n",
            "|    Mickie|Micki|\n",
            "|    Kaspar|Kaspa|\n",
            "|    Norbie|Norbi|\n",
            "|    Claude|Claud|\n",
            "|     Thain|Thain|\n",
            "|  Tiffanie|Tiffa|\n",
            "|    Ettore|Ettor|\n",
            "+----------+-----+\n",
            "only showing top 20 rows\n",
            "\n"
          ]
        }
      ]
    },
    {
      "cell_type": "markdown",
      "source": [
        "### Multiple Filters"
      ],
      "metadata": {
        "id": "ZcnpHvCjZkfz"
      }
    },
    {
      "cell_type": "code",
      "source": [
        "# df_filter = df.filter((df.first_name.isin('Aldin','Valma')) & (df.city.like('%ondon')))\n",
        "df_filter = df.filter((df.first_name.isin('Aldin','Valma')) | (df.city.like('%Caxias')))\n",
        "df_filter.show()"
      ],
      "metadata": {
        "colab": {
          "base_uri": "https://localhost:8080/"
        },
        "id": "cVK-aTXgYlDx",
        "outputId": "444c2e52-ccb6-43c3-c661-63d143b9c3fc"
      },
      "execution_count": 68,
      "outputs": [
        {
          "metadata": {
            "tags": null
          },
          "name": "stdout",
          "output_type": "stream",
          "text": [
            "+---+----------+-------------+------+-----------+----------------+---------+----------+---------+\n",
            "| id|first_name|    last_name|gender|       city|       job_title|   Salary|  latitude|longitude|\n",
            "+---+----------+-------------+------+-----------+----------------+---------+----------+---------+\n",
            "| 37|     Nicko|        Frays|  Male|     Caxias|  Health Coach I|$99786.40|-4.8654137|  -43.362|\n",
            "|569|     Valma|      Bratton|Female|  Kurayoshi|Web Developer II|$32665.89| 35.449905|133.76134|\n",
            "|901|     Aldin|Matuszkiewicz|  Male|East London|        Operator|$41468.83|-32.954933|27.931913|\n",
            "+---+----------+-------------+------+-----------+----------------+---------+----------+---------+\n",
            "\n"
          ]
        }
      ]
    },
    {
      "cell_type": "code",
      "source": [
        "# df_filter = df.filter((df.id > 10) & (df.id < 18))\n",
        "df_filter = df.filter((df.id > 10) & (df.id <= 18))\n",
        "df_filter.show()"
      ],
      "metadata": {
        "colab": {
          "base_uri": "https://localhost:8080/"
        },
        "id": "9zMuUC94YlLX",
        "outputId": "968e5fec-eba1-4f69-e3e6-844f448bde7f"
      },
      "execution_count": 69,
      "outputs": [
        {
          "metadata": {
            "tags": null
          },
          "name": "stdout",
          "output_type": "stream",
          "text": [
            "+---+----------+---------+------+--------------+--------------------+---------+---------+----------+\n",
            "| id|first_name|last_name|gender|          city|           job_title|   Salary| latitude| longitude|\n",
            "+---+----------+---------+------+--------------+--------------------+---------+---------+----------+\n",
            "| 11|    Kylynn|  Lockart|Female|      El Cardo|Nuclear Power Eng...|$13604.63|    -5.85| -79.88333|\n",
            "| 12|       Rey|   Meharg|Female|   Wangqingtuo|Systems Administr...|$73423.70| 39.17238| 116.93161|\n",
            "| 13|      Kerr|   Braden|  Male|     Sułkowice|Compensation Analyst|$33432.99| 49.81518| 19.377174|\n",
            "| 14|    Mickie|Whanstall|  Male|   Springfield|Assistant Media P...|$50838.53| 42.10148|-72.576675|\n",
            "| 15|    Kaspar|    Pally|  Male|        Chrást|  Analyst Programmer|$40163.03| 49.79233| 13.491532|\n",
            "| 16|    Norbie|   Gwyllt|  Male|        Xijiao|              Editor|$32492.73|43.494576|  5.897802|\n",
            "| 17|    Claude|   Briant|Female|     Mieścisko|Research Assistan...|$51862.48|52.744167| 17.327864|\n",
            "| 18|     Thain|   Habbon|  Male|Foros do Trapo|     Design Engineer|$42135.67|38.696247| -8.709834|\n",
            "+---+----------+---------+------+--------------+--------------------+---------+---------+----------+\n",
            "\n"
          ]
        }
      ]
    },
    {
      "cell_type": "markdown",
      "source": [
        "### SQL on Dataframes"
      ],
      "metadata": {
        "id": "7xT4THpobeJ9"
      }
    },
    {
      "cell_type": "code",
      "source": [
        "df.registerTempTable('original')\n",
        "query1 = spark.sql(\"\"\"\n",
        "  SELECT *\n",
        "  FROM original\n",
        "\"\"\")\n",
        "query1.show()"
      ],
      "metadata": {
        "colab": {
          "base_uri": "https://localhost:8080/"
        },
        "id": "iIojfSOkbMpo",
        "outputId": "d076a543-9dd4-40ae-ed53-e56783e86a2a"
      },
      "execution_count": 70,
      "outputs": [
        {
          "metadata": {
            "tags": null
          },
          "name": "stdout",
          "output_type": "stream",
          "text": [
            "+---+----------+----------+------+---------------+--------------------+---------+----------+----------+\n",
            "| id|first_name| last_name|gender|           city|           job_title|   Salary|  latitude| longitude|\n",
            "+---+----------+----------+------+---------------+--------------------+---------+----------+----------+\n",
            "|  1|   Melinde| Shilburne|Female|      Nowa Ruda| Assistant Professor|$57438.18| 50.577408| 16.496717|\n",
            "|  2|  Kimberly|Von Welden|Female|         Bulgan|       Programmer II|$62846.60|  48.82316| 103.52182|\n",
            "|  3|    Alvera|  Di Boldi|Female|           null|                null|$57576.52| 39.994747|116.339775|\n",
            "|  4|   Shannon| O'Griffin|  Male|  Divnomorskoye|Budget/Accounting...|$61489.23| 44.504723| 38.130016|\n",
            "|  5|  Sherwood|   Macieja|  Male|      Mytishchi|            VP Sales|$63863.09|      null| 37.648994|\n",
            "|  6|     Maris|      Folk|Female|Kinsealy-Drinan|      Civil Engineer|$30101.16| 53.426613|-6.1644998|\n",
            "|  7|     Masha|    Divers|Female|         Dachun|                null|$25090.87| 24.879416|118.930115|\n",
            "|  8|   Goddart|     Flear|  Male|      Trélissac|Desktop Support T...|$46116.36| 45.190517| 0.7423124|\n",
            "|  9|      Roth|O'Cannavan|  Male|         Heitan|VP Product Manage...|$73697.10| 32.027935| 106.65711|\n",
            "| 10|      Bran|   Trahear|  Male|       Arbeláez|Mechanical System...|$68098.42|  4.272793|-74.416016|\n",
            "| 11|    Kylynn|   Lockart|Female|       El Cardo|Nuclear Power Eng...|$13604.63|     -5.85| -79.88333|\n",
            "| 12|       Rey|    Meharg|Female|    Wangqingtuo|Systems Administr...|$73423.70|  39.17238| 116.93161|\n",
            "| 13|      Kerr|    Braden|  Male|      Sułkowice|Compensation Analyst|$33432.99|  49.81518| 19.377174|\n",
            "| 14|    Mickie| Whanstall|  Male|    Springfield|Assistant Media P...|$50838.53|  42.10148|-72.576675|\n",
            "| 15|    Kaspar|     Pally|  Male|         Chrást|  Analyst Programmer|$40163.03|  49.79233| 13.491532|\n",
            "| 16|    Norbie|    Gwyllt|  Male|         Xijiao|              Editor|$32492.73| 43.494576|  5.897802|\n",
            "| 17|    Claude|    Briant|Female|      Mieścisko|Research Assistan...|$51862.48| 52.744167| 17.327864|\n",
            "| 18|     Thain|    Habbon|  Male| Foros do Trapo|     Design Engineer|$42135.67| 38.696247| -8.709834|\n",
            "| 19|  Tiffanie|  Pattison|Female|    Jabungsisir|Senior Financial ...|$91925.08|-7.7232566| 113.46868|\n",
            "| 20|    Ettore|  Gerriets|  Male|          Pedra| Staff Accountant IV|$73921.33| 40.717205|-8.3625145|\n",
            "+---+----------+----------+------+---------------+--------------------+---------+----------+----------+\n",
            "only showing top 20 rows\n",
            "\n"
          ]
        }
      ]
    },
    {
      "cell_type": "code",
      "source": [
        "query2 = spark.sql(\"\"\"\n",
        "  SELECT \n",
        "    id\n",
        "    , CONCAT(first_name,\" \",last_name) as full_name\n",
        "    --, city -- commented line\n",
        "  FROM original\n",
        "  WHERE gender = 'Female'\n",
        "\"\"\")\n",
        "query2.show()"
      ],
      "metadata": {
        "colab": {
          "base_uri": "https://localhost:8080/"
        },
        "id": "Hu7GqUHFbMup",
        "outputId": "f2059312-9552-43ff-a923-821b2cb96452"
      },
      "execution_count": 71,
      "outputs": [
        {
          "metadata": {
            "tags": null
          },
          "name": "stdout",
          "output_type": "stream",
          "text": [
            "+---+-------------------+\n",
            "| id|          full_name|\n",
            "+---+-------------------+\n",
            "|  1|  Melinde Shilburne|\n",
            "|  2|Kimberly Von Welden|\n",
            "|  3|    Alvera Di Boldi|\n",
            "|  6|         Maris Folk|\n",
            "|  7|       Masha Divers|\n",
            "| 11|     Kylynn Lockart|\n",
            "| 12|         Rey Meharg|\n",
            "| 17|      Claude Briant|\n",
            "| 19|  Tiffanie Pattison|\n",
            "| 23|    Lurleen Janczak|\n",
            "| 24|      Nichol Holtum|\n",
            "| 25|       Shaun Bridle|\n",
            "| 26|     Leandra Anfrey|\n",
            "| 28|    Jaquelyn Hazard|\n",
            "| 29|  Prudence Honacker|\n",
            "| 30|       Cherey Liger|\n",
            "| 31|          Neda Krop|\n",
            "| 34|    Barbi Fattorini|\n",
            "| 38|   Lonnie Townshend|\n",
            "| 39|    Valida Salzberg|\n",
            "+---+-------------------+\n",
            "only showing top 20 rows\n",
            "\n"
          ]
        }
      ]
    },
    {
      "cell_type": "markdown",
      "source": [
        "### Adding Calculated Columns"
      ],
      "metadata": {
        "id": "Wnb1zHKXdLy8"
      }
    },
    {
      "cell_type": "code",
      "source": [
        "from pyspark.sql.functions import *\n",
        "df_clean_salary = df.withColumn('clean_salary', df.Salary.substr(2,100).cast('float'))\n",
        "df_clean_salary.show()"
      ],
      "metadata": {
        "colab": {
          "base_uri": "https://localhost:8080/"
        },
        "id": "eiXsMlTtbM1n",
        "outputId": "0ec72566-e3d0-4aa1-a0ee-94ee8d8fddf9"
      },
      "execution_count": 72,
      "outputs": [
        {
          "metadata": {
            "tags": null
          },
          "name": "stdout",
          "output_type": "stream",
          "text": [
            "+---+----------+----------+------+---------------+--------------------+---------+----------+----------+------------+\n",
            "| id|first_name| last_name|gender|           city|           job_title|   Salary|  latitude| longitude|clean_salary|\n",
            "+---+----------+----------+------+---------------+--------------------+---------+----------+----------+------------+\n",
            "|  1|   Melinde| Shilburne|Female|      Nowa Ruda| Assistant Professor|$57438.18| 50.577408| 16.496717|    57438.18|\n",
            "|  2|  Kimberly|Von Welden|Female|         Bulgan|       Programmer II|$62846.60|  48.82316| 103.52182|     62846.6|\n",
            "|  3|    Alvera|  Di Boldi|Female|           null|                null|$57576.52| 39.994747|116.339775|    57576.52|\n",
            "|  4|   Shannon| O'Griffin|  Male|  Divnomorskoye|Budget/Accounting...|$61489.23| 44.504723| 38.130016|    61489.23|\n",
            "|  5|  Sherwood|   Macieja|  Male|      Mytishchi|            VP Sales|$63863.09|      null| 37.648994|    63863.09|\n",
            "|  6|     Maris|      Folk|Female|Kinsealy-Drinan|      Civil Engineer|$30101.16| 53.426613|-6.1644998|    30101.16|\n",
            "|  7|     Masha|    Divers|Female|         Dachun|                null|$25090.87| 24.879416|118.930115|    25090.87|\n",
            "|  8|   Goddart|     Flear|  Male|      Trélissac|Desktop Support T...|$46116.36| 45.190517| 0.7423124|    46116.36|\n",
            "|  9|      Roth|O'Cannavan|  Male|         Heitan|VP Product Manage...|$73697.10| 32.027935| 106.65711|     73697.1|\n",
            "| 10|      Bran|   Trahear|  Male|       Arbeláez|Mechanical System...|$68098.42|  4.272793|-74.416016|    68098.42|\n",
            "| 11|    Kylynn|   Lockart|Female|       El Cardo|Nuclear Power Eng...|$13604.63|     -5.85| -79.88333|    13604.63|\n",
            "| 12|       Rey|    Meharg|Female|    Wangqingtuo|Systems Administr...|$73423.70|  39.17238| 116.93161|     73423.7|\n",
            "| 13|      Kerr|    Braden|  Male|      Sułkowice|Compensation Analyst|$33432.99|  49.81518| 19.377174|    33432.99|\n",
            "| 14|    Mickie| Whanstall|  Male|    Springfield|Assistant Media P...|$50838.53|  42.10148|-72.576675|    50838.53|\n",
            "| 15|    Kaspar|     Pally|  Male|         Chrást|  Analyst Programmer|$40163.03|  49.79233| 13.491532|    40163.03|\n",
            "| 16|    Norbie|    Gwyllt|  Male|         Xijiao|              Editor|$32492.73| 43.494576|  5.897802|    32492.73|\n",
            "| 17|    Claude|    Briant|Female|      Mieścisko|Research Assistan...|$51862.48| 52.744167| 17.327864|    51862.48|\n",
            "| 18|     Thain|    Habbon|  Male| Foros do Trapo|     Design Engineer|$42135.67| 38.696247| -8.709834|    42135.67|\n",
            "| 19|  Tiffanie|  Pattison|Female|    Jabungsisir|Senior Financial ...|$91925.08|-7.7232566| 113.46868|    91925.08|\n",
            "| 20|    Ettore|  Gerriets|  Male|          Pedra| Staff Accountant IV|$73921.33| 40.717205|-8.3625145|    73921.33|\n",
            "+---+----------+----------+------+---------------+--------------------+---------+----------+----------+------------+\n",
            "only showing top 20 rows\n",
            "\n"
          ]
        }
      ]
    },
    {
      "cell_type": "code",
      "source": [
        "df_monthly_salary = df_clean_salary.withColumn('monthly_salary', df_clean_salary.clean_salary/12)\n",
        "df_monthly_salary.show()"
      ],
      "metadata": {
        "colab": {
          "base_uri": "https://localhost:8080/"
        },
        "id": "XBIiuWjZeBLV",
        "outputId": "9bf4f3ac-d6f7-41c2-d98d-9ff07dfd3835"
      },
      "execution_count": 73,
      "outputs": [
        {
          "metadata": {
            "tags": null
          },
          "name": "stdout",
          "output_type": "stream",
          "text": [
            "+---+----------+----------+------+---------------+--------------------+---------+----------+----------+------------+------------------+\n",
            "| id|first_name| last_name|gender|           city|           job_title|   Salary|  latitude| longitude|clean_salary|    monthly_salary|\n",
            "+---+----------+----------+------+---------------+--------------------+---------+----------+----------+------------+------------------+\n",
            "|  1|   Melinde| Shilburne|Female|      Nowa Ruda| Assistant Professor|$57438.18| 50.577408| 16.496717|    57438.18| 4786.514973958333|\n",
            "|  2|  Kimberly|Von Welden|Female|         Bulgan|       Programmer II|$62846.60|  48.82316| 103.52182|     62846.6|    5237.216796875|\n",
            "|  3|    Alvera|  Di Boldi|Female|           null|                null|$57576.52| 39.994747|116.339775|    57576.52| 4798.043294270833|\n",
            "|  4|   Shannon| O'Griffin|  Male|  Divnomorskoye|Budget/Accounting...|$61489.23| 44.504723| 38.130016|    61489.23|   5124.1025390625|\n",
            "|  5|  Sherwood|   Macieja|  Male|      Mytishchi|            VP Sales|$63863.09|      null| 37.648994|    63863.09| 5321.924153645833|\n",
            "|  6|     Maris|      Folk|Female|Kinsealy-Drinan|      Civil Engineer|$30101.16| 53.426613|-6.1644998|    30101.16|2508.4300130208335|\n",
            "|  7|     Masha|    Divers|Female|         Dachun|                null|$25090.87| 24.879416|118.930115|    25090.87|  2090.90576171875|\n",
            "|  8|   Goddart|     Flear|  Male|      Trélissac|Desktop Support T...|$46116.36| 45.190517| 0.7423124|    46116.36|3843.0299479166665|\n",
            "|  9|      Roth|O'Cannavan|  Male|         Heitan|VP Product Manage...|$73697.10| 32.027935| 106.65711|     73697.1| 6141.425130208333|\n",
            "| 10|      Bran|   Trahear|  Male|       Arbeláez|Mechanical System...|$68098.42|  4.272793|-74.416016|    68098.42| 5674.868489583333|\n",
            "| 11|    Kylynn|   Lockart|Female|       El Cardo|Nuclear Power Eng...|$13604.63|     -5.85| -79.88333|    13604.63|1133.7191569010417|\n",
            "| 12|       Rey|    Meharg|Female|    Wangqingtuo|Systems Administr...|$73423.70|  39.17238| 116.93161|     73423.7| 6118.641927083333|\n",
            "| 13|      Kerr|    Braden|  Male|      Sułkowice|Compensation Analyst|$33432.99|  49.81518| 19.377174|    33432.99|2786.0823567708335|\n",
            "| 14|    Mickie| Whanstall|  Male|    Springfield|Assistant Media P...|$50838.53|  42.10148|-72.576675|    50838.53| 4236.544270833333|\n",
            "| 15|    Kaspar|     Pally|  Male|         Chrást|  Analyst Programmer|$40163.03|  49.79233| 13.491532|    40163.03|3346.9192708333335|\n",
            "| 16|    Norbie|    Gwyllt|  Male|         Xijiao|              Editor|$32492.73| 43.494576|  5.897802|    32492.73|   2707.7275390625|\n",
            "| 17|    Claude|    Briant|Female|      Mieścisko|Research Assistan...|$51862.48| 52.744167| 17.327864|    51862.48| 4321.873372395833|\n",
            "| 18|     Thain|    Habbon|  Male| Foros do Trapo|     Design Engineer|$42135.67| 38.696247| -8.709834|    42135.67|3511.3059895833335|\n",
            "| 19|  Tiffanie|  Pattison|Female|    Jabungsisir|Senior Financial ...|$91925.08|-7.7232566| 113.46868|    91925.08| 7660.423177083333|\n",
            "| 20|    Ettore|  Gerriets|  Male|          Pedra| Staff Accountant IV|$73921.33| 40.717205|-8.3625145|    73921.33| 6160.110677083333|\n",
            "+---+----------+----------+------+---------------+--------------------+---------+----------+----------+------------+------------------+\n",
            "only showing top 20 rows\n",
            "\n"
          ]
        }
      ]
    },
    {
      "cell_type": "code",
      "source": [
        "# df_female = df.withColumn('Female?', when(df.gender == 'Female', 'yes'). otherwise('no'))\n",
        "df_female = df.withColumn('Female?', when(df.gender == 'Female', 1). otherwise(0))\n",
        "df_female.show()"
      ],
      "metadata": {
        "colab": {
          "base_uri": "https://localhost:8080/"
        },
        "id": "E7CrB9E7enTT",
        "outputId": "8ae7581c-09a9-453c-a118-121b77bba010"
      },
      "execution_count": 74,
      "outputs": [
        {
          "metadata": {
            "tags": null
          },
          "name": "stdout",
          "output_type": "stream",
          "text": [
            "+---+----------+----------+------+---------------+--------------------+---------+----------+----------+-------+\n",
            "| id|first_name| last_name|gender|           city|           job_title|   Salary|  latitude| longitude|Female?|\n",
            "+---+----------+----------+------+---------------+--------------------+---------+----------+----------+-------+\n",
            "|  1|   Melinde| Shilburne|Female|      Nowa Ruda| Assistant Professor|$57438.18| 50.577408| 16.496717|      1|\n",
            "|  2|  Kimberly|Von Welden|Female|         Bulgan|       Programmer II|$62846.60|  48.82316| 103.52182|      1|\n",
            "|  3|    Alvera|  Di Boldi|Female|           null|                null|$57576.52| 39.994747|116.339775|      1|\n",
            "|  4|   Shannon| O'Griffin|  Male|  Divnomorskoye|Budget/Accounting...|$61489.23| 44.504723| 38.130016|      0|\n",
            "|  5|  Sherwood|   Macieja|  Male|      Mytishchi|            VP Sales|$63863.09|      null| 37.648994|      0|\n",
            "|  6|     Maris|      Folk|Female|Kinsealy-Drinan|      Civil Engineer|$30101.16| 53.426613|-6.1644998|      1|\n",
            "|  7|     Masha|    Divers|Female|         Dachun|                null|$25090.87| 24.879416|118.930115|      1|\n",
            "|  8|   Goddart|     Flear|  Male|      Trélissac|Desktop Support T...|$46116.36| 45.190517| 0.7423124|      0|\n",
            "|  9|      Roth|O'Cannavan|  Male|         Heitan|VP Product Manage...|$73697.10| 32.027935| 106.65711|      0|\n",
            "| 10|      Bran|   Trahear|  Male|       Arbeláez|Mechanical System...|$68098.42|  4.272793|-74.416016|      0|\n",
            "| 11|    Kylynn|   Lockart|Female|       El Cardo|Nuclear Power Eng...|$13604.63|     -5.85| -79.88333|      1|\n",
            "| 12|       Rey|    Meharg|Female|    Wangqingtuo|Systems Administr...|$73423.70|  39.17238| 116.93161|      1|\n",
            "| 13|      Kerr|    Braden|  Male|      Sułkowice|Compensation Analyst|$33432.99|  49.81518| 19.377174|      0|\n",
            "| 14|    Mickie| Whanstall|  Male|    Springfield|Assistant Media P...|$50838.53|  42.10148|-72.576675|      0|\n",
            "| 15|    Kaspar|     Pally|  Male|         Chrást|  Analyst Programmer|$40163.03|  49.79233| 13.491532|      0|\n",
            "| 16|    Norbie|    Gwyllt|  Male|         Xijiao|              Editor|$32492.73| 43.494576|  5.897802|      0|\n",
            "| 17|    Claude|    Briant|Female|      Mieścisko|Research Assistan...|$51862.48| 52.744167| 17.327864|      1|\n",
            "| 18|     Thain|    Habbon|  Male| Foros do Trapo|     Design Engineer|$42135.67| 38.696247| -8.709834|      0|\n",
            "| 19|  Tiffanie|  Pattison|Female|    Jabungsisir|Senior Financial ...|$91925.08|-7.7232566| 113.46868|      1|\n",
            "| 20|    Ettore|  Gerriets|  Male|          Pedra| Staff Accountant IV|$73921.33| 40.717205|-8.3625145|      0|\n",
            "+---+----------+----------+------+---------------+--------------------+---------+----------+----------+-------+\n",
            "only showing top 20 rows\n",
            "\n"
          ]
        }
      ]
    },
    {
      "cell_type": "markdown",
      "source": [
        "### Group_By and Aggregation"
      ],
      "metadata": {
        "id": "gC2PlOPae98l"
      }
    },
    {
      "cell_type": "code",
      "source": [
        "import pyspark.sql.functions as sqlfunc\n",
        "df1 = df_clean_salary.groupBy('gender').agg(sqlfunc.sum('clean_salary'))\n",
        "df1.show()"
      ],
      "metadata": {
        "colab": {
          "base_uri": "https://localhost:8080/"
        },
        "id": "8wwZAfbye9uo",
        "outputId": "3313f17f-180f-4efd-96e0-be69406ef458"
      },
      "execution_count": 75,
      "outputs": [
        {
          "metadata": {
            "tags": null
          },
          "name": "stdout",
          "output_type": "stream",
          "text": [
            "+------+--------------------+\n",
            "|gender|   sum(clean_salary)|\n",
            "+------+--------------------+\n",
            "|Female|2.7364519950195312E7|\n",
            "|  Male|2.8123435678710938E7|\n",
            "+------+--------------------+\n",
            "\n"
          ]
        }
      ]
    },
    {
      "cell_type": "code",
      "source": [
        "df1 = df_clean_salary.groupBy('gender').agg(sqlfunc.sum('clean_salary').alias('Total'),\n",
        "                                            sqlfunc.avg('clean_salary').alias('Average'),\n",
        "                                            sqlfunc.min('clean_salary').alias('Min'),\n",
        "                                            sqlfunc.max('clean_salary').alias('Max')\n",
        ")\n",
        "df1.show()"
      ],
      "metadata": {
        "colab": {
          "base_uri": "https://localhost:8080/"
        },
        "id": "cPFoK9Ojgazf",
        "outputId": "aa9bec87-7eac-4366-ff73-d41f3cec6e97"
      },
      "execution_count": 76,
      "outputs": [
        {
          "metadata": {
            "tags": null
          },
          "name": "stdout",
          "output_type": "stream",
          "text": [
            "+------+--------------------+-----------------+--------+--------+\n",
            "|gender|               Total|          Average|     Min|     Max|\n",
            "+------+--------------------+-----------------+--------+--------+\n",
            "|Female|2.7364519950195312E7|55618.94298820185|10616.44|99948.28|\n",
            "|  Male|2.8123435678710938E7|55361.09385573019|10101.92|99942.92|\n",
            "+------+--------------------+-----------------+--------+--------+\n",
            "\n"
          ]
        }
      ]
    },
    {
      "cell_type": "code",
      "source": [
        "df1 = df_clean_salary.groupBy('gender', 'job_title').agg(sqlfunc.sum('clean_salary').alias('Total'),\n",
        "                                            sqlfunc.avg('clean_salary').alias('Average'),\n",
        "                                            sqlfunc.min('clean_salary').alias('Min'),\n",
        "                                            sqlfunc.max('clean_salary').alias('Max')\n",
        ")\n",
        "df1.show()"
      ],
      "metadata": {
        "colab": {
          "base_uri": "https://localhost:8080/"
        },
        "id": "cQyzmiJhga12",
        "outputId": "15d628ce-1a0c-4af0-cccf-d7104af5e4e0"
      },
      "execution_count": 77,
      "outputs": [
        {
          "metadata": {
            "tags": null
          },
          "name": "stdout",
          "output_type": "stream",
          "text": [
            "+------+--------------------+-----------------+------------------+--------+--------+\n",
            "|gender|           job_title|            Total|           Average|     Min|     Max|\n",
            "+------+--------------------+-----------------+------------------+--------+--------+\n",
            "|Female|    Statistician III|    44224.8984375|     44224.8984375| 44224.9| 44224.9|\n",
            "|  Male|     Cost Accountant| 322273.427734375|40284.178466796875|15849.42|81698.25|\n",
            "|Female|         Engineer IV|   134404.5703125|    67202.28515625| 57365.1|77039.47|\n",
            "|Female| Clinical Specialist|189083.8876953125|47270.971923828125| 12468.7|81003.76|\n",
            "|Female|    Dental Hygienist| 155758.638671875|25959.773111979168|10808.16| 44627.3|\n",
            "|Female|Research Assistan...|   70371.83984375|   35185.919921875|21039.36|49332.48|\n",
            "|Female|  Nurse Practicioner|292473.1064453125|  58494.6212890625|12908.38|91322.55|\n",
            "|  Male| Geological Engineer|   296738.3828125|     59347.6765625|23825.54|94839.56|\n",
            "|  Male|            VP Sales|  405120.08984375| 67520.01497395833|45042.14|99222.84|\n",
            "|Female|Systems Administr...|      154118.4375|       77059.21875|60216.07|93902.37|\n",
            "|Female|Automation Specia...|  89808.271484375|  44904.1357421875|17163.53|72644.74|\n",
            "|  Male|      Civil Engineer|    310813.109375|44401.872767857145| 14724.4|89197.44|\n",
            "|  Male|     Design Engineer| 579106.388671875|   64345.154296875|31385.87|95280.35|\n",
            "|  Male|               Nurse|  171346.33984375|57115.446614583336|35134.88|97909.88|\n",
            "|  Male|Nuclear Power Eng...|  273902.77734375|    54780.55546875|12016.07|87006.61|\n",
            "|Female|        Food Chemist|  109310.49609375|   54655.248046875|11084.34|98226.16|\n",
            "|  Male|Human Resources A...|  66437.111328125|  33218.5556640625|25091.42|41345.69|\n",
            "|  Male|  Environmental Tech|     273965.34375|     68491.3359375|22820.25|94374.57|\n",
            "|  Male|Systems Administr...|   62163.80078125|    62163.80078125| 62163.8| 62163.8|\n",
            "|  Male|        Engineer III|   202359.6640625| 67453.22135416667|34851.65|97531.47|\n",
            "+------+--------------------+-----------------+------------------+--------+--------+\n",
            "only showing top 20 rows\n",
            "\n"
          ]
        }
      ]
    },
    {
      "cell_type": "markdown",
      "source": [
        "### Writing dataframe to file and to Pandas dataframe"
      ],
      "metadata": {
        "id": "yBMy4AaahOWW"
      }
    },
    {
      "cell_type": "code",
      "source": [
        "# df1.write.json('df1.json')\n",
        "# df1.write.parquet('df1.parquet')\n",
        "# df1.write.csv('df1.csv')"
      ],
      "metadata": {
        "id": "8Q7NNftkga4f"
      },
      "execution_count": 78,
      "outputs": []
    },
    {
      "cell_type": "code",
      "source": [
        "import pandas as pd\n",
        "\n",
        "from pyspark.sql.functions import *\n",
        "df_clean_salary2 = df_dropped.withColumn('clean_salary', df.Salary.substr(2,100).cast('float'))\n",
        "\n",
        "pandasDF = df_clean_salary2.toPandas()\n",
        "pandasDF"
      ],
      "metadata": {
        "id": "vIDUa8PWga69",
        "colab": {
          "base_uri": "https://localhost:8080/",
          "height": 424
        },
        "outputId": "9b4e68db-c5df-48f3-af61-5d838ba40897"
      },
      "execution_count": 85,
      "outputs": [
        {
          "output_type": "execute_result",
          "data": {
            "text/plain": [
              "       id  first_name   last_name  gender             city  \\\n",
              "0       1     Melinde   Shilburne  Female        Nowa Ruda   \n",
              "1       2    Kimberly  Von Welden  Female           Bulgan   \n",
              "2       4     Shannon   O'Griffin    Male    Divnomorskoye   \n",
              "3       6       Maris        Folk  Female  Kinsealy-Drinan   \n",
              "4       8     Goddart       Flear    Male        Trélissac   \n",
              "..    ...         ...         ...     ...              ...   \n",
              "992   996      Kathye     Grasser  Female         Dzaoudzi   \n",
              "993   997     Haskell    Kempston    Male    Ban Talat Nua   \n",
              "994   998  Holly-anne       Gerbl  Female          Guanaja   \n",
              "995   999      Marysa      Purdie  Female            Sioah   \n",
              "996  1000      Jewell    Haselden  Female      Springfield   \n",
              "\n",
              "                                job_title     Salary   latitude   longitude  \\\n",
              "0                     Assistant Professor  $57438.18  50.577408   16.496717   \n",
              "1                           Programmer II  $62846.60  48.823158  103.521820   \n",
              "2            Budget/Accounting Analyst II  $61489.23  44.504723   38.130016   \n",
              "3                          Civil Engineer  $30101.16  53.426613   -6.164500   \n",
              "4              Desktop Support Technician  $46116.36  45.190517    0.742312   \n",
              "..                                    ...        ...        ...         ...   \n",
              "992                         Accountant IV  $65520.45 -12.782212   45.258209   \n",
              "993                     Biostatistician I  $37021.92   7.912274   98.345970   \n",
              "994                    Speech Pathologist  $16200.10  16.482662  -85.879326   \n",
              "995            Desktop Support Technician  $95912.44   5.586496   95.351402   \n",
              "996  Business Systems Development Analyst  $30556.12  39.799999  -89.650002   \n",
              "\n",
              "     clean_salary  \n",
              "0    57438.179688  \n",
              "1    62846.601562  \n",
              "2    61489.230469  \n",
              "3    30101.160156  \n",
              "4    46116.359375  \n",
              "..            ...  \n",
              "992  65520.449219  \n",
              "993  37021.921875  \n",
              "994  16200.099609  \n",
              "995  95912.437500  \n",
              "996  30556.119141  \n",
              "\n",
              "[997 rows x 10 columns]"
            ],
            "text/html": [
              "\n",
              "  <div id=\"df-8ebf7311-b276-4eb8-910f-6fe363731a56\">\n",
              "    <div class=\"colab-df-container\">\n",
              "      <div>\n",
              "<style scoped>\n",
              "    .dataframe tbody tr th:only-of-type {\n",
              "        vertical-align: middle;\n",
              "    }\n",
              "\n",
              "    .dataframe tbody tr th {\n",
              "        vertical-align: top;\n",
              "    }\n",
              "\n",
              "    .dataframe thead th {\n",
              "        text-align: right;\n",
              "    }\n",
              "</style>\n",
              "<table border=\"1\" class=\"dataframe\">\n",
              "  <thead>\n",
              "    <tr style=\"text-align: right;\">\n",
              "      <th></th>\n",
              "      <th>id</th>\n",
              "      <th>first_name</th>\n",
              "      <th>last_name</th>\n",
              "      <th>gender</th>\n",
              "      <th>city</th>\n",
              "      <th>job_title</th>\n",
              "      <th>Salary</th>\n",
              "      <th>latitude</th>\n",
              "      <th>longitude</th>\n",
              "      <th>clean_salary</th>\n",
              "    </tr>\n",
              "  </thead>\n",
              "  <tbody>\n",
              "    <tr>\n",
              "      <th>0</th>\n",
              "      <td>1</td>\n",
              "      <td>Melinde</td>\n",
              "      <td>Shilburne</td>\n",
              "      <td>Female</td>\n",
              "      <td>Nowa Ruda</td>\n",
              "      <td>Assistant Professor</td>\n",
              "      <td>$57438.18</td>\n",
              "      <td>50.577408</td>\n",
              "      <td>16.496717</td>\n",
              "      <td>57438.179688</td>\n",
              "    </tr>\n",
              "    <tr>\n",
              "      <th>1</th>\n",
              "      <td>2</td>\n",
              "      <td>Kimberly</td>\n",
              "      <td>Von Welden</td>\n",
              "      <td>Female</td>\n",
              "      <td>Bulgan</td>\n",
              "      <td>Programmer II</td>\n",
              "      <td>$62846.60</td>\n",
              "      <td>48.823158</td>\n",
              "      <td>103.521820</td>\n",
              "      <td>62846.601562</td>\n",
              "    </tr>\n",
              "    <tr>\n",
              "      <th>2</th>\n",
              "      <td>4</td>\n",
              "      <td>Shannon</td>\n",
              "      <td>O'Griffin</td>\n",
              "      <td>Male</td>\n",
              "      <td>Divnomorskoye</td>\n",
              "      <td>Budget/Accounting Analyst II</td>\n",
              "      <td>$61489.23</td>\n",
              "      <td>44.504723</td>\n",
              "      <td>38.130016</td>\n",
              "      <td>61489.230469</td>\n",
              "    </tr>\n",
              "    <tr>\n",
              "      <th>3</th>\n",
              "      <td>6</td>\n",
              "      <td>Maris</td>\n",
              "      <td>Folk</td>\n",
              "      <td>Female</td>\n",
              "      <td>Kinsealy-Drinan</td>\n",
              "      <td>Civil Engineer</td>\n",
              "      <td>$30101.16</td>\n",
              "      <td>53.426613</td>\n",
              "      <td>-6.164500</td>\n",
              "      <td>30101.160156</td>\n",
              "    </tr>\n",
              "    <tr>\n",
              "      <th>4</th>\n",
              "      <td>8</td>\n",
              "      <td>Goddart</td>\n",
              "      <td>Flear</td>\n",
              "      <td>Male</td>\n",
              "      <td>Trélissac</td>\n",
              "      <td>Desktop Support Technician</td>\n",
              "      <td>$46116.36</td>\n",
              "      <td>45.190517</td>\n",
              "      <td>0.742312</td>\n",
              "      <td>46116.359375</td>\n",
              "    </tr>\n",
              "    <tr>\n",
              "      <th>...</th>\n",
              "      <td>...</td>\n",
              "      <td>...</td>\n",
              "      <td>...</td>\n",
              "      <td>...</td>\n",
              "      <td>...</td>\n",
              "      <td>...</td>\n",
              "      <td>...</td>\n",
              "      <td>...</td>\n",
              "      <td>...</td>\n",
              "      <td>...</td>\n",
              "    </tr>\n",
              "    <tr>\n",
              "      <th>992</th>\n",
              "      <td>996</td>\n",
              "      <td>Kathye</td>\n",
              "      <td>Grasser</td>\n",
              "      <td>Female</td>\n",
              "      <td>Dzaoudzi</td>\n",
              "      <td>Accountant IV</td>\n",
              "      <td>$65520.45</td>\n",
              "      <td>-12.782212</td>\n",
              "      <td>45.258209</td>\n",
              "      <td>65520.449219</td>\n",
              "    </tr>\n",
              "    <tr>\n",
              "      <th>993</th>\n",
              "      <td>997</td>\n",
              "      <td>Haskell</td>\n",
              "      <td>Kempston</td>\n",
              "      <td>Male</td>\n",
              "      <td>Ban Talat Nua</td>\n",
              "      <td>Biostatistician I</td>\n",
              "      <td>$37021.92</td>\n",
              "      <td>7.912274</td>\n",
              "      <td>98.345970</td>\n",
              "      <td>37021.921875</td>\n",
              "    </tr>\n",
              "    <tr>\n",
              "      <th>994</th>\n",
              "      <td>998</td>\n",
              "      <td>Holly-anne</td>\n",
              "      <td>Gerbl</td>\n",
              "      <td>Female</td>\n",
              "      <td>Guanaja</td>\n",
              "      <td>Speech Pathologist</td>\n",
              "      <td>$16200.10</td>\n",
              "      <td>16.482662</td>\n",
              "      <td>-85.879326</td>\n",
              "      <td>16200.099609</td>\n",
              "    </tr>\n",
              "    <tr>\n",
              "      <th>995</th>\n",
              "      <td>999</td>\n",
              "      <td>Marysa</td>\n",
              "      <td>Purdie</td>\n",
              "      <td>Female</td>\n",
              "      <td>Sioah</td>\n",
              "      <td>Desktop Support Technician</td>\n",
              "      <td>$95912.44</td>\n",
              "      <td>5.586496</td>\n",
              "      <td>95.351402</td>\n",
              "      <td>95912.437500</td>\n",
              "    </tr>\n",
              "    <tr>\n",
              "      <th>996</th>\n",
              "      <td>1000</td>\n",
              "      <td>Jewell</td>\n",
              "      <td>Haselden</td>\n",
              "      <td>Female</td>\n",
              "      <td>Springfield</td>\n",
              "      <td>Business Systems Development Analyst</td>\n",
              "      <td>$30556.12</td>\n",
              "      <td>39.799999</td>\n",
              "      <td>-89.650002</td>\n",
              "      <td>30556.119141</td>\n",
              "    </tr>\n",
              "  </tbody>\n",
              "</table>\n",
              "<p>997 rows × 10 columns</p>\n",
              "</div>\n",
              "      <button class=\"colab-df-convert\" onclick=\"convertToInteractive('df-8ebf7311-b276-4eb8-910f-6fe363731a56')\"\n",
              "              title=\"Convert this dataframe to an interactive table.\"\n",
              "              style=\"display:none;\">\n",
              "        \n",
              "  <svg xmlns=\"http://www.w3.org/2000/svg\" height=\"24px\"viewBox=\"0 0 24 24\"\n",
              "       width=\"24px\">\n",
              "    <path d=\"M0 0h24v24H0V0z\" fill=\"none\"/>\n",
              "    <path d=\"M18.56 5.44l.94 2.06.94-2.06 2.06-.94-2.06-.94-.94-2.06-.94 2.06-2.06.94zm-11 1L8.5 8.5l.94-2.06 2.06-.94-2.06-.94L8.5 2.5l-.94 2.06-2.06.94zm10 10l.94 2.06.94-2.06 2.06-.94-2.06-.94-.94-2.06-.94 2.06-2.06.94z\"/><path d=\"M17.41 7.96l-1.37-1.37c-.4-.4-.92-.59-1.43-.59-.52 0-1.04.2-1.43.59L10.3 9.45l-7.72 7.72c-.78.78-.78 2.05 0 2.83L4 21.41c.39.39.9.59 1.41.59.51 0 1.02-.2 1.41-.59l7.78-7.78 2.81-2.81c.8-.78.8-2.07 0-2.86zM5.41 20L4 18.59l7.72-7.72 1.47 1.35L5.41 20z\"/>\n",
              "  </svg>\n",
              "      </button>\n",
              "      \n",
              "  <style>\n",
              "    .colab-df-container {\n",
              "      display:flex;\n",
              "      flex-wrap:wrap;\n",
              "      gap: 12px;\n",
              "    }\n",
              "\n",
              "    .colab-df-convert {\n",
              "      background-color: #E8F0FE;\n",
              "      border: none;\n",
              "      border-radius: 50%;\n",
              "      cursor: pointer;\n",
              "      display: none;\n",
              "      fill: #1967D2;\n",
              "      height: 32px;\n",
              "      padding: 0 0 0 0;\n",
              "      width: 32px;\n",
              "    }\n",
              "\n",
              "    .colab-df-convert:hover {\n",
              "      background-color: #E2EBFA;\n",
              "      box-shadow: 0px 1px 2px rgba(60, 64, 67, 0.3), 0px 1px 3px 1px rgba(60, 64, 67, 0.15);\n",
              "      fill: #174EA6;\n",
              "    }\n",
              "\n",
              "    [theme=dark] .colab-df-convert {\n",
              "      background-color: #3B4455;\n",
              "      fill: #D2E3FC;\n",
              "    }\n",
              "\n",
              "    [theme=dark] .colab-df-convert:hover {\n",
              "      background-color: #434B5C;\n",
              "      box-shadow: 0px 1px 3px 1px rgba(0, 0, 0, 0.15);\n",
              "      filter: drop-shadow(0px 1px 2px rgba(0, 0, 0, 0.3));\n",
              "      fill: #FFFFFF;\n",
              "    }\n",
              "  </style>\n",
              "\n",
              "      <script>\n",
              "        const buttonEl =\n",
              "          document.querySelector('#df-8ebf7311-b276-4eb8-910f-6fe363731a56 button.colab-df-convert');\n",
              "        buttonEl.style.display =\n",
              "          google.colab.kernel.accessAllowed ? 'block' : 'none';\n",
              "\n",
              "        async function convertToInteractive(key) {\n",
              "          const element = document.querySelector('#df-8ebf7311-b276-4eb8-910f-6fe363731a56');\n",
              "          const dataTable =\n",
              "            await google.colab.kernel.invokeFunction('convertToInteractive',\n",
              "                                                     [key], {});\n",
              "          if (!dataTable) return;\n",
              "\n",
              "          const docLinkHtml = 'Like what you see? Visit the ' +\n",
              "            '<a target=\"_blank\" href=https://colab.research.google.com/notebooks/data_table.ipynb>data table notebook</a>'\n",
              "            + ' to learn more about interactive tables.';\n",
              "          element.innerHTML = '';\n",
              "          dataTable['output_type'] = 'display_data';\n",
              "          await google.colab.output.renderOutput(dataTable, element);\n",
              "          const docLink = document.createElement('div');\n",
              "          docLink.innerHTML = docLinkHtml;\n",
              "          element.appendChild(docLink);\n",
              "        }\n",
              "      </script>\n",
              "    </div>\n",
              "  </div>\n",
              "  "
            ]
          },
          "metadata": {},
          "execution_count": 85
        }
      ]
    }
  ]
}